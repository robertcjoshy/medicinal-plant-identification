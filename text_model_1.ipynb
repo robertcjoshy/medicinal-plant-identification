{
 "cells": [
  {
   "cell_type": "code",
   "execution_count": 2,
   "metadata": {},
   "outputs": [],
   "source": [
    "import tensorflow as tf\n",
    "\n",
    "from tensorflow.keras import datasets, layers, models\n",
    "import matplotlib.pyplot as plt"
   ]
  },
  {
   "cell_type": "code",
   "execution_count": 3,
   "metadata": {},
   "outputs": [],
   "source": [
    "from PIL import Image\n",
    "from numpy import asarray\n",
    "import numpy as np"
   ]
  },
  {
   "cell_type": "code",
   "execution_count": 20,
   "metadata": {},
   "outputs": [],
   "source": [
    "datalist_test = []"
   ]
  },
  {
   "cell_type": "code",
   "execution_count": 21,
   "metadata": {},
   "outputs": [
    {
     "name": "stdout",
     "output_type": "stream",
     "text": [
      "---------------\n",
      "F:\\project-final-final\\Medicinal Leaf Dataset\\Medicinal Leaf Dataset\\Segmented Medicinal Leaf Images\\Alpinia Galanga (Rasna)\n",
      "---------------\n",
      "F:\\project-final-final\\Medicinal Leaf Dataset\\Medicinal Leaf Dataset\\Segmented Medicinal Leaf Images\\Amaranthus Viridis (Arive-Dantu)\n",
      "---------------\n",
      "F:\\project-final-final\\Medicinal Leaf Dataset\\Medicinal Leaf Dataset\\Segmented Medicinal Leaf Images\\Artocarpus Heterophyllus (Jackfruit)\n",
      "---------------\n",
      "F:\\project-final-final\\Medicinal Leaf Dataset\\Medicinal Leaf Dataset\\Segmented Medicinal Leaf Images\\Azadirachta Indica (Neem)\n",
      "---------------\n",
      "F:\\project-final-final\\Medicinal Leaf Dataset\\Medicinal Leaf Dataset\\Segmented Medicinal Leaf Images\\Basella Alba (Basale)\n",
      "---------------\n",
      "F:\\project-final-final\\Medicinal Leaf Dataset\\Medicinal Leaf Dataset\\Segmented Medicinal Leaf Images\\Brassica Juncea (Indian Mustard)\n",
      "---------------\n",
      "F:\\project-final-final\\Medicinal Leaf Dataset\\Medicinal Leaf Dataset\\Segmented Medicinal Leaf Images\\Carissa Carandas (Karanda)\n",
      "---------------\n",
      "F:\\project-final-final\\Medicinal Leaf Dataset\\Medicinal Leaf Dataset\\Segmented Medicinal Leaf Images\\Citrus Limon (Lemon)\n",
      "---------------\n",
      "F:\\project-final-final\\Medicinal Leaf Dataset\\Medicinal Leaf Dataset\\Segmented Medicinal Leaf Images\\Ficus Auriculata (Roxburgh fig)\n",
      "---------------\n",
      "F:\\project-final-final\\Medicinal Leaf Dataset\\Medicinal Leaf Dataset\\Segmented Medicinal Leaf Images\\Ficus Religiosa (Peepal Tree)\n",
      "---------------\n",
      "F:\\project-final-final\\Medicinal Leaf Dataset\\Medicinal Leaf Dataset\\Segmented Medicinal Leaf Images\\Hibiscus Rosa-sinensis\n",
      "---------------\n",
      "F:\\project-final-final\\Medicinal Leaf Dataset\\Medicinal Leaf Dataset\\Segmented Medicinal Leaf Images\\Jasminum (Jasmine)\n",
      "---------------\n",
      "F:\\project-final-final\\Medicinal Leaf Dataset\\Medicinal Leaf Dataset\\Segmented Medicinal Leaf Images\\Mangifera Indica (Mango)\n",
      "---------------\n",
      "F:\\project-final-final\\Medicinal Leaf Dataset\\Medicinal Leaf Dataset\\Segmented Medicinal Leaf Images\\Mentha (Mint)\n",
      "---------------\n",
      "F:\\project-final-final\\Medicinal Leaf Dataset\\Medicinal Leaf Dataset\\Segmented Medicinal Leaf Images\\Moringa Oleifera (Drumstick)\n",
      "---------------\n",
      "F:\\project-final-final\\Medicinal Leaf Dataset\\Medicinal Leaf Dataset\\Segmented Medicinal Leaf Images\\Muntingia Calabura (Jamaica Cherry-Gasagase)\n",
      "---------------\n",
      "F:\\project-final-final\\Medicinal Leaf Dataset\\Medicinal Leaf Dataset\\Segmented Medicinal Leaf Images\\Murraya Koenigii (Curry)\n",
      "---------------\n",
      "F:\\project-final-final\\Medicinal Leaf Dataset\\Medicinal Leaf Dataset\\Segmented Medicinal Leaf Images\\Nerium Oleander (Oleander)\n",
      "---------------\n",
      "F:\\project-final-final\\Medicinal Leaf Dataset\\Medicinal Leaf Dataset\\Segmented Medicinal Leaf Images\\Nyctanthes Arbor-tristis (Parijata)\n",
      "---------------\n",
      "F:\\project-final-final\\Medicinal Leaf Dataset\\Medicinal Leaf Dataset\\Segmented Medicinal Leaf Images\\Ocimum Tenuiflorum (Tulsi)\n",
      "---------------\n",
      "F:\\project-final-final\\Medicinal Leaf Dataset\\Medicinal Leaf Dataset\\Segmented Medicinal Leaf Images\\Piper Betle (Betel)\n",
      "---------------\n",
      "F:\\project-final-final\\Medicinal Leaf Dataset\\Medicinal Leaf Dataset\\Segmented Medicinal Leaf Images\\Plectranthus Amboinicus (Mexican Mint)\n",
      "---------------\n",
      "F:\\project-final-final\\Medicinal Leaf Dataset\\Medicinal Leaf Dataset\\Segmented Medicinal Leaf Images\\Pongamia Pinnata (Indian Beech)\n",
      "---------------\n",
      "F:\\project-final-final\\Medicinal Leaf Dataset\\Medicinal Leaf Dataset\\Segmented Medicinal Leaf Images\\Psidium Guajava (Guava)\n",
      "---------------\n",
      "F:\\project-final-final\\Medicinal Leaf Dataset\\Medicinal Leaf Dataset\\Segmented Medicinal Leaf Images\\Punica Granatum (Pomegranate)\n",
      "---------------\n",
      "F:\\project-final-final\\Medicinal Leaf Dataset\\Medicinal Leaf Dataset\\Segmented Medicinal Leaf Images\\Santalum Album (Sandalwood)\n",
      "---------------\n",
      "F:\\project-final-final\\Medicinal Leaf Dataset\\Medicinal Leaf Dataset\\Segmented Medicinal Leaf Images\\Syzygium Cumini (Jamun)\n",
      "---------------\n",
      "F:\\project-final-final\\Medicinal Leaf Dataset\\Medicinal Leaf Dataset\\Segmented Medicinal Leaf Images\\Syzygium Jambos (Rose Apple)\n",
      "---------------\n",
      "F:\\project-final-final\\Medicinal Leaf Dataset\\Medicinal Leaf Dataset\\Segmented Medicinal Leaf Images\\Tabernaemontana Divaricata (Crape Jasmine)\n",
      "---------------\n",
      "F:\\project-final-final\\Medicinal Leaf Dataset\\Medicinal Leaf Dataset\\Segmented Medicinal Leaf Images\\Trigonella Foenum-graecum (Fenugreek)\n"
     ]
    }
   ],
   "source": [
    "import os\n",
    "from os import listdir\n",
    "folder_dirr = r\"F:\\project-final-final\\Medicinal Leaf Dataset\\Medicinal Leaf Dataset\\Segmented Medicinal Leaf Images\"\n",
    "for imagess in os.listdir(folder_dirr):\n",
    "    PATHHs = r\"F:\\project-final-final\\Medicinal Leaf Dataset\\Medicinal Leaf Dataset\\Segmented Medicinal Leaf Images\\{0}\"\n",
    "    folder = PATHHs.format(imagess)\n",
    "    print(\"---------------\")\n",
    "    print(folder)\n",
    "    x=0\n",
    "    folder_dir = r\"F:\\project-final-final\\Medicinal Leaf Dataset\\Medicinal Leaf Dataset\\Segmented Medicinal Leaf Images\\Artocarpus Heterophyllus (Jackfruit)\"\n",
    "    for images in os.listdir(folder):\n",
    "        PATHH = r\"F:\\project-final-final\\Medicinal Leaf Dataset\\Medicinal Leaf Dataset\\Segmented Medicinal Leaf Images\\{0}\\{1}\"\n",
    "        name = \"Artocarpus Heterophyllus (Jackfruit)\"\n",
    "        img = Image.open(PATHH.format(imagess,images))\n",
    "        #img = Image.open(folder_dir.images)\n",
    "        if x == 30:\n",
    "            break\n",
    "        IMG_SIZE = img.resize((32,32))\n",
    "        #print(robertt.size)\n",
    "        image_array = np.array(IMG_SIZE)\n",
    "        scaled = image_array / 255.0\n",
    "        datalist_test.append(scaled)\n",
    "        x+=1"
   ]
  },
  {
   "cell_type": "code",
   "execution_count": 22,
   "metadata": {},
   "outputs": [
    {
     "name": "stdout",
     "output_type": "stream",
     "text": [
      "900\n",
      "900\n"
     ]
    },
    {
     "data": {
      "text/plain": [
       "<matplotlib.image.AxesImage at 0x1d93f0bc5e0>"
      ]
     },
     "execution_count": 22,
     "metadata": {},
     "output_type": "execute_result"
    },
    {
     "data": {
      "image/png": "[encoded data removed]",
      "text/plain": [
       "<Figure size 640x480 with 1 Axes>"
      ]
     },
     "metadata": {},
     "output_type": "display_data"
    }
   ],
   "source": [
    "print(len(datalist_test))\n",
    "final_data = datalist_test\n",
    "print(len(final_data))\n",
    "plt.figure()\n",
    "plt.imshow(final_data[91])"
   ]
  },
  {
   "cell_type": "code",
   "execution_count": 40,
   "metadata": {},
   "outputs": [
    {
     "name": "stdout",
     "output_type": "stream",
     "text": [
      "900\n",
      "(900,)\n",
      "[0, 0, 0, 0, 0, 0, 0, 0, 0, 0, 0, 0, 0, 0, 0, 0, 0, 0, 0, 0, 0, 0, 0, 0, 0, 0, 0, 0, 0, 0, 1, 1, 1, 1, 1, 1, 1, 1, 1, 1, 1, 1, 1, 1, 1, 1, 1, 1, 1, 1, 1, 1, 1, 1, 1, 1, 1, 1, 1, 1, 2, 2, 2, 2, 2, 2, 2, 2, 2, 2, 2, 2, 2, 2, 2, 2, 2, 2, 2, 2, 2, 2, 2, 2, 2, 2, 2, 2, 2, 2, 3, 3, 3, 3, 3, 3, 3, 3, 3, 3, 3, 3, 3, 3, 3, 3, 3, 3, 3, 3, 3, 3, 3, 3, 3, 3, 3, 3, 3, 3, 4, 4, 4, 4, 4, 4, 4, 4, 4, 4, 4, 4, 4, 4, 4, 4, 4, 4, 4, 4, 4, 4, 4, 4, 4, 4, 4, 4, 4, 4, 5, 5, 5, 5, 5, 5, 5, 5, 5, 5, 5, 5, 5, 5, 5, 5, 5, 5, 5, 5, 5, 5, 5, 5, 5, 5, 5, 5, 5, 5, 6, 6, 6, 6, 6, 6, 6, 6, 6, 6, 6, 6, 6, 6, 6, 6, 6, 6, 6, 6, 6, 6, 6, 6, 6, 6, 6, 6, 6, 6, 7, 7, 7, 7, 7, 7, 7, 7, 7, 7, 7, 7, 7, 7, 7, 7, 7, 7, 7, 7, 7, 7, 7, 7, 7, 7, 7, 7, 7, 7, 8, 8, 8, 8, 8, 8, 8, 8, 8, 8, 8, 8, 8, 8, 8, 8, 8, 8, 8, 8, 8, 8, 8, 8, 8, 8, 8, 8, 8, 8, 9, 9, 9, 9, 9, 9, 9, 9, 9, 9, 9, 9, 9, 9, 9, 9, 9, 9, 9, 9, 9, 9, 9, 9, 9, 9, 9, 9, 9, 9, 10, 10, 10, 10, 10, 10, 10, 10, 10, 10, 10, 10, 10, 10, 10, 10, 10, 10, 10, 10, 10, 10, 10, 10, 10, 10, 10, 10, 10, 10, 11, 11, 11, 11, 11, 11, 11, 11, 11, 11, 11, 11, 11, 11, 11, 11, 11, 11, 11, 11, 11, 11, 11, 11, 11, 11, 11, 11, 11, 11, 12, 12, 12, 12, 12, 12, 12, 12, 12, 12, 12, 12, 12, 12, 12, 12, 12, 12, 12, 12, 12, 12, 12, 12, 12, 12, 12, 12, 12, 12, 13, 13, 13, 13, 13, 13, 13, 13, 13, 13, 13, 13, 13, 13, 13, 13, 13, 13, 13, 13, 13, 13, 13, 13, 13, 13, 13, 13, 13, 13, 14, 14, 14, 14, 14, 14, 14, 14, 14, 14, 14, 14, 14, 14, 14, 14, 14, 14, 14, 14, 14, 14, 14, 14, 14, 14, 14, 14, 14, 14, 15, 15, 15, 15, 15, 15, 15, 15, 15, 15, 15, 15, 15, 15, 15, 15, 15, 15, 15, 15, 15, 15, 15, 15, 15, 15, 15, 15, 15, 15, 16, 16, 16, 16, 16, 16, 16, 16, 16, 16, 16, 16, 16, 16, 16, 16, 16, 16, 16, 16, 16, 16, 16, 16, 16, 16, 16, 16, 16, 16, 17, 17, 17, 17, 17, 17, 17, 17, 17, 17, 17, 17, 17, 17, 17, 17, 17, 17, 17, 17, 17, 17, 17, 17, 17, 17, 17, 17, 17, 17, 18, 18, 18, 18, 18, 18, 18, 18, 18, 18, 18, 18, 18, 18, 18, 18, 18, 18, 18, 18, 18, 18, 18, 18, 18, 18, 18, 18, 18, 18, 19, 19, 19, 19, 19, 19, 19, 19, 19, 19, 19, 19, 19, 19, 19, 19, 19, 19, 19, 19, 19, 19, 19, 19, 19, 19, 19, 19, 19, 19, 20, 20, 20, 20, 20, 20, 20, 20, 20, 20, 20, 20, 20, 20, 20, 20, 20, 20, 20, 20, 20, 20, 20, 20, 20, 20, 20, 20, 20, 20, 21, 21, 21, 21, 21, 21, 21, 21, 21, 21, 21, 21, 21, 21, 21, 21, 21, 21, 21, 21, 21, 21, 21, 21, 21, 21, 21, 21, 21, 21, 22, 22, 22, 22, 22, 22, 22, 22, 22, 22, 22, 22, 22, 22, 22, 22, 22, 22, 22, 22, 22, 22, 22, 22, 22, 22, 22, 22, 22, 22, 23, 23, 23, 23, 23, 23, 23, 23, 23, 23, 23, 23, 23, 23, 23, 23, 23, 23, 23, 23, 23, 23, 23, 23, 23, 23, 23, 23, 23, 23, 24, 24, 24, 24, 24, 24, 24, 24, 24, 24, 24, 24, 24, 24, 24, 24, 24, 24, 24, 24, 24, 24, 24, 24, 24, 24, 24, 24, 24, 24, 25, 25, 25, 25, 25, 25, 25, 25, 25, 25, 25, 25, 25, 25, 25, 25, 25, 25, 25, 25, 25, 25, 25, 25, 25, 25, 25, 25, 25, 25, 26, 26, 26, 26, 26, 26, 26, 26, 26, 26, 26, 26, 26, 26, 26, 26, 26, 26, 26, 26, 26, 26, 26, 26, 26, 26, 26, 26, 26, 26, 27, 27, 27, 27, 27, 27, 27, 27, 27, 27, 27, 27, 27, 27, 27, 27, 27, 27, 27, 27, 27, 27, 27, 27, 27, 27, 27, 27, 27, 27, 28, 28, 28, 28, 28, 28, 28, 28, 28, 28, 28, 28, 28, 28, 28, 28, 28, 28, 28, 28, 28, 28, 28, 28, 28, 28, 28, 28, 28, 28, 29, 29, 29, 29, 29, 29, 29, 29, 29, 29, 29, 29, 29, 29, 29, 29, 29, 29, 29, 29, 29, 29, 29, 29, 29, 29, 29, 29, 29, 29]\n"
     ]
    }
   ],
   "source": [
    "final_label=[]\n",
    "labellist=[]\n",
    "for t in range(0,30):\n",
    "    labellist = [t] * 30\n",
    "    final_label.extend(labellist)\n",
    "\n",
    "print(len(final_label))\n",
    "print(np.array(final_label).shape)\n",
    "print(final_label)"
   ]
  },
  {
   "cell_type": "code",
   "execution_count": 41,
   "metadata": {},
   "outputs": [],
   "source": [
    "import numpy as np\n",
    "from sklearn.model_selection import train_test_split\n",
    "X_train, X_test, Y_train, Y_test = train_test_split(final_data, final_label, test_size=0.33, random_state=42)"
   ]
  },
  {
   "cell_type": "code",
   "execution_count": 42,
   "metadata": {},
   "outputs": [
    {
     "name": "stdout",
     "output_type": "stream",
     "text": [
      "(603, 32, 32, 3)\n",
      "(297, 32, 32, 3)\n",
      "(603,)\n"
     ]
    }
   ],
   "source": [
    "x_train = np.array(X_train)\n",
    "y_train = np.array(Y_train)\n",
    "x_test = np.array(X_test)\n",
    "y_test = np.array(Y_test)\n",
    "\n",
    "print(x_train.shape)\n",
    "print(x_test.shape)\n",
    "print(y_train.shape)\n"
   ]
  },
  {
   "cell_type": "code",
   "execution_count": 43,
   "metadata": {},
   "outputs": [
    {
     "name": "stdout",
     "output_type": "stream",
     "text": [
      "7\n"
     ]
    }
   ],
   "source": [
    "print(y_test[2])"
   ]
  },
  {
   "cell_type": "code",
   "execution_count": 44,
   "metadata": {},
   "outputs": [],
   "source": [
    "import keras,os\n",
    "from keras.models import Sequential\n",
    "from keras.layers import Dense, Conv2D, MaxPool2D , Flatten\n",
    "from keras.preprocessing.image import ImageDataGenerator\n",
    "import numpy as np"
   ]
  },
  {
   "cell_type": "code",
   "execution_count": 45,
   "metadata": {},
   "outputs": [],
   "source": [
    "model = models.Sequential()\n",
    "model.add(layers.Conv2D(32, (3, 3), activation='relu', input_shape=(32, 32, 3)))\n",
    "model.add(layers.MaxPooling2D((2, 2)))\n",
    "model.add(layers.Conv2D(64, (3, 3), activation='relu'))\n",
    "model.add(layers.MaxPooling2D((2, 2)))\n",
    "model.add(layers.Conv2D(64, (3, 3), activation='relu'))"
   ]
  },
  {
   "cell_type": "code",
   "execution_count": 46,
   "metadata": {},
   "outputs": [
    {
     "name": "stdout",
     "output_type": "stream",
     "text": [
      "Model: \"sequential_3\"\n",
      "_________________________________________________________________\n",
      " Layer (type)                Output Shape              Param #   \n",
      "=================================================================\n",
      " conv2d_9 (Conv2D)           (None, 30, 30, 32)        896       \n",
      "                                                                 \n",
      " max_pooling2d_6 (MaxPooling  (None, 15, 15, 32)       0         \n",
      " 2D)                                                             \n",
      "                                                                 \n",
      " conv2d_10 (Conv2D)          (None, 13, 13, 64)        18496     \n",
      "                                                                 \n",
      " max_pooling2d_7 (MaxPooling  (None, 6, 6, 64)         0         \n",
      " 2D)                                                             \n",
      "                                                                 \n",
      " conv2d_11 (Conv2D)          (None, 4, 4, 64)          36928     \n",
      "                                                                 \n",
      "=================================================================\n",
      "Total params: 56,320\n",
      "Trainable params: 56,320\n",
      "Non-trainable params: 0\n",
      "_________________________________________________________________\n"
     ]
    }
   ],
   "source": [
    "model.summary()\n"
   ]
  },
  {
   "cell_type": "code",
   "execution_count": 49,
   "metadata": {},
   "outputs": [],
   "source": [
    "model.add(layers.Flatten())\n",
    "model.add(layers.Dense(64, activation='relu'))\n",
    "model.add(layers.Dense(30))"
   ]
  },
  {
   "cell_type": "code",
   "execution_count": 50,
   "metadata": {},
   "outputs": [
    {
     "name": "stdout",
     "output_type": "stream",
     "text": [
      "Model: \"sequential_3\"\n",
      "_________________________________________________________________\n",
      " Layer (type)                Output Shape              Param #   \n",
      "=================================================================\n",
      " conv2d_9 (Conv2D)           (None, 30, 30, 32)        896       \n",
      "                                                                 \n",
      " max_pooling2d_6 (MaxPooling  (None, 15, 15, 32)       0         \n",
      " 2D)                                                             \n",
      "                                                                 \n",
      " conv2d_10 (Conv2D)          (None, 13, 13, 64)        18496     \n",
      "                                                                 \n",
      " max_pooling2d_7 (MaxPooling  (None, 6, 6, 64)         0         \n",
      " 2D)                                                             \n",
      "                                                                 \n",
      " conv2d_11 (Conv2D)          (None, 4, 4, 64)          36928     \n",
      "                                                                 \n",
      " flatten_5 (Flatten)         (None, 1024)              0         \n",
      "                                                                 \n",
      " dense_10 (Dense)            (None, 64)                65600     \n",
      "                                                                 \n",
      " dense_11 (Dense)            (None, 31)                2015      \n",
      "                                                                 \n",
      " flatten_6 (Flatten)         (None, 31)                0         \n",
      "                                                                 \n",
      " dense_12 (Dense)            (None, 64)                2048      \n",
      "                                                                 \n",
      " dense_13 (Dense)            (None, 30)                1950      \n",
      "                                                                 \n",
      "=================================================================\n",
      "Total params: 127,933\n",
      "Trainable params: 127,933\n",
      "Non-trainable params: 0\n",
      "_________________________________________________________________\n"
     ]
    }
   ],
   "source": [
    "model.summary()"
   ]
  },
  {
   "cell_type": "code",
   "execution_count": 51,
   "metadata": {},
   "outputs": [
    {
     "name": "stdout",
     "output_type": "stream",
     "text": [
      "Epoch 1/10\n",
      "19/19 [==============================] - 2s 63ms/step - loss: 3.3664 - accuracy: 0.0531 - val_loss: 3.2930 - val_accuracy: 0.0875\n",
      "Epoch 2/10\n",
      "19/19 [==============================] - 1s 41ms/step - loss: 3.0729 - accuracy: 0.1194 - val_loss: 2.9567 - val_accuracy: 0.1785\n",
      "Epoch 3/10\n",
      "19/19 [==============================] - 1s 42ms/step - loss: 2.6503 - accuracy: 0.2305 - val_loss: 2.5584 - val_accuracy: 0.2323\n",
      "Epoch 4/10\n",
      "19/19 [==============================] - 1s 46ms/step - loss: 2.2376 - accuracy: 0.3433 - val_loss: 2.0594 - val_accuracy: 0.3906\n",
      "Epoch 5/10\n",
      "19/19 [==============================] - 1s 48ms/step - loss: 1.8738 - accuracy: 0.4179 - val_loss: 1.8749 - val_accuracy: 0.4242\n",
      "Epoch 6/10\n",
      "19/19 [==============================] - 1s 46ms/step - loss: 1.5924 - accuracy: 0.5456 - val_loss: 1.6878 - val_accuracy: 0.5185\n",
      "Epoch 7/10\n",
      "19/19 [==============================] - 1s 47ms/step - loss: 1.5083 - accuracy: 0.5456 - val_loss: 1.6734 - val_accuracy: 0.4512\n",
      "Epoch 8/10\n",
      "19/19 [==============================] - 1s 42ms/step - loss: 1.3486 - accuracy: 0.5804 - val_loss: 1.5131 - val_accuracy: 0.5354\n",
      "Epoch 9/10\n",
      "19/19 [==============================] - 1s 48ms/step - loss: 1.1140 - accuracy: 0.6667 - val_loss: 1.3922 - val_accuracy: 0.5522\n",
      "Epoch 10/10\n",
      "19/19 [==============================] - 1s 46ms/step - loss: 1.0531 - accuracy: 0.6833 - val_loss: 1.4850 - val_accuracy: 0.5488\n"
     ]
    }
   ],
   "source": [
    "model.compile(optimizer='adam',\n",
    "              loss=tf.keras.losses.SparseCategoricalCrossentropy(from_logits=True),\n",
    "              metrics=['accuracy'])\n",
    "\n",
    "history = model.fit(x_train, y_train, epochs=10, \n",
    "                    validation_data=(x_test, y_test))"
   ]
  },
  {
   "cell_type": "code",
   "execution_count": null,
   "metadata": {},
   "outputs": [],
   "source": [
    "import pickle\n",
    "\n",
    "pickle.dump(model, open('robo.pkl', 'wb'))"
   ]
  },
  {
   "cell_type": "code",
   "execution_count": 53,
   "metadata": {},
   "outputs": [],
   "source": [
    "#path = r\"F:\\project-final-final\\modelr\"\n",
    "model.save(\"robo.h5\")"
   ]
  },
  {
   "cell_type": "code",
   "execution_count": 61,
   "metadata": {},
   "outputs": [
    {
     "name": "stdout",
     "output_type": "stream",
     "text": [
      "<class 'PIL.Image.Image'>\n",
      "WARNING:tensorflow:6 out of the last 6 calls to <function Model.make_predict_function.<locals>.predict_function at 0x000001D94711B040> triggered tf.function retracing. Tracing is expensive and the excessive number of tracings could be due to (1) creating @tf.function repeatedly in a loop, (2) passing tensors with different shapes, (3) passing Python objects instead of tensors. For (1), please define your @tf.function outside of the loop. For (2), @tf.function has experimental_relax_shapes=True option that relaxes argument shapes that can avoid unnecessary retracing. For (3), please refer to https://www.tensorflow.org/guide/function#controlling_retracing and https://www.tensorflow.org/api_docs/python/tf/function for  more details.\n",
      "12 12.698764\n"
     ]
    }
   ],
   "source": [
    "import os\n",
    "os.environ['TF_CPP_MIN_LOG_LEVEL'] = '3'\n",
    "from keras.preprocessing import image\n",
    "from keras.models import load_model\n",
    "import numpy as np\n",
    "#image_file  = r\"F:\\project-final-final\\medic\\AH-S-001.jpg\"\n",
    "image_file = r\"F:\\project-final-final\\Medicinal Leaf Dataset\\Medicinal Leaf Dataset\\Segmented Medicinal Leaf Images\\Mangifera Indica (Mango)\\MI-S-005.jpg\"\n",
    "img = image.load_img(image_file,target_size=(32,32))\n",
    "print(type(img))\n",
    "img = np.asarray(img)\n",
    "img=img/255\n",
    "img = np.expand_dims(img, axis=0)\n",
    "saved_model = load_model(\"robo.h5\")\n",
    "pred_array = saved_model.predict(img)\n",
    "pred_class = pred_array.argmax(axis=-1)[0]\n",
    "print(pred_class,pred_array[0][pred_class])"
   ]
  },
  {
   "cell_type": "code",
   "execution_count": 21,
   "metadata": {},
   "outputs": [
    {
     "name": "stdout",
     "output_type": "stream",
     "text": [
      "Epoch 1/10\n"
     ]
    },
    {
     "ename": "",
     "evalue": "",
     "output_type": "error",
     "traceback": [
      "\u001b[1;31mCanceled future for execute_request message before replies were done"
     ]
    },
    {
     "ename": "",
     "evalue": "",
     "output_type": "error",
     "traceback": [
      "\u001b[1;31mThe Kernel crashed while executing code in the the current cell or a previous cell. Please review the code in the cell(s) to identify a possible cause of the failure. Click <a href='https://aka.ms/vscodeJupyterKernelCrash'>here</a> for more info. View Jupyter <a href='command:jupyter.viewOutput'>log</a> for further details."
     ]
    }
   ],
   "source": [
    "history = model.fit(x_train, y_train, epochs=10)"
   ]
  }
 ],
 "metadata": {
  "kernelspec": {
   "display_name": "rasafinal",
   "language": "python",
   "name": "python3"
  },
  "language_info": {
   "codemirror_mode": {
    "name": "ipython",
    "version": 3
   },
   "file_extension": ".py",
   "mimetype": "text/x-python",
   "name": "python",
   "nbconvert_exporter": "python",
   "pygments_lexer": "ipython3",
   "version": "3.9.13"
  },
  "orig_nbformat": 4
 },
 "nbformat": 4,
 "nbformat_minor": 2
}
